{
  "nbformat": 4,
  "nbformat_minor": 0,
  "metadata": {
    "colab": {
      "name": "Sub.ipynb",
      "provenance": [],
      "collapsed_sections": [
        "NYrvi8gkWkJo"
      ],
      "authorship_tag": "ABX9TyMvePh/9CYHawkhz+6Olm2t",
      "include_colab_link": true
    },
    "kernelspec": {
      "name": "python3",
      "display_name": "Python 3"
    }
  },
  "cells": [
    {
      "cell_type": "markdown",
      "metadata": {
        "id": "view-in-github",
        "colab_type": "text"
      },
      "source": [
        "<a href=\"https://colab.research.google.com/github/Kaustubh-Atey/Codes/blob/master/ML_Classidication.ipynb\" target=\"_parent\"><img src=\"https://colab.research.google.com/assets/colab-badge.svg\" alt=\"Open In Colab\"/></a>"
      ]
    },
    {
      "cell_type": "markdown",
      "metadata": {
        "id": "NYrvi8gkWkJo"
      },
      "source": [
        "# **Install & Import required libraries**"
      ]
    },
    {
      "cell_type": "code",
      "metadata": {
        "id": "YxkJaj1vpk0E"
      },
      "source": [
        "import numpy as np\r\n",
        "import pandas as pd\r\n",
        "import matplotlib.pyplot as plt\r\n",
        "import seaborn as sns"
      ],
      "execution_count": 1,
      "outputs": []
    },
    {
      "cell_type": "code",
      "metadata": {
        "id": "iDNOFC0-tFdm"
      },
      "source": [
        "from scipy import stats\r\n",
        "from sklearn.feature_selection import SelectKBest, chi2\r\n",
        "from sklearn import preprocessing\r\n",
        "from sklearn.model_selection import train_test_split"
      ],
      "execution_count": 2,
      "outputs": []
    },
    {
      "cell_type": "code",
      "metadata": {
        "id": "zt9V3GtL0ODa"
      },
      "source": [
        "from sklearn.ensemble import RandomForestClassifier\r\n",
        "from sklearn.neighbors import KNeighborsClassifier\r\n",
        "from sklearn.svm import SVC\r\n",
        "from sklearn.metrics import  classification_report, confusion_matrix\r\n",
        "from sklearn.model_selection import GridSearchCV\r\n",
        "from sklearn.pipeline import Pipeline"
      ],
      "execution_count": 3,
      "outputs": []
    },
    {
      "cell_type": "code",
      "metadata": {
        "colab": {
          "base_uri": "https://localhost:8080/"
        },
        "id": "yf_txMYFPK_e",
        "outputId": "59d559c4-4fe6-41c2-ca71-45940f579c0d"
      },
      "source": [
        "!pip install pipelinehelper\r\n",
        "from pipelinehelper import PipelineHelper"
      ],
      "execution_count": 20,
      "outputs": [
        {
          "output_type": "stream",
          "text": [
            "Requirement already satisfied: pipelinehelper in /usr/local/lib/python3.6/dist-packages (0.7.8)\n",
            "Requirement already satisfied: sklearn in /usr/local/lib/python3.6/dist-packages (from pipelinehelper) (0.0)\n",
            "Requirement already satisfied: scikit-learn in /usr/local/lib/python3.6/dist-packages (from sklearn->pipelinehelper) (0.22.2.post1)\n",
            "Requirement already satisfied: numpy>=1.11.0 in /usr/local/lib/python3.6/dist-packages (from scikit-learn->sklearn->pipelinehelper) (1.19.4)\n",
            "Requirement already satisfied: scipy>=0.17.0 in /usr/local/lib/python3.6/dist-packages (from scikit-learn->sklearn->pipelinehelper) (1.4.1)\n",
            "Requirement already satisfied: joblib>=0.11 in /usr/local/lib/python3.6/dist-packages (from scikit-learn->sklearn->pipelinehelper) (1.0.0)\n"
          ],
          "name": "stdout"
        }
      ]
    },
    {
      "cell_type": "markdown",
      "metadata": {
        "id": "Dc5J9aEOqsw3"
      },
      "source": [
        "# **Load and Visualize Data**"
      ]
    },
    {
      "cell_type": "code",
      "metadata": {
        "id": "LIpyX06_prg3",
        "colab": {
          "base_uri": "https://localhost:8080/",
          "height": 195
        },
        "outputId": "cb47aecd-f38f-4401-c1fe-a8ddc72e1a01"
      },
      "source": [
        "path = '/content/data.csv'      # Path to .csv data file\r\n",
        "df = pd.read_csv(path)\r\n",
        "df.head()"
      ],
      "execution_count": 214,
      "outputs": [
        {
          "output_type": "execute_result",
          "data": {
            "text/html": [
              "<div>\n",
              "<style scoped>\n",
              "    .dataframe tbody tr th:only-of-type {\n",
              "        vertical-align: middle;\n",
              "    }\n",
              "\n",
              "    .dataframe tbody tr th {\n",
              "        vertical-align: top;\n",
              "    }\n",
              "\n",
              "    .dataframe thead th {\n",
              "        text-align: right;\n",
              "    }\n",
              "</style>\n",
              "<table border=\"1\" class=\"dataframe\">\n",
              "  <thead>\n",
              "    <tr style=\"text-align: right;\">\n",
              "      <th></th>\n",
              "      <th>feature1</th>\n",
              "      <th>feature2</th>\n",
              "      <th>feature3</th>\n",
              "      <th>feature4</th>\n",
              "      <th>feature5</th>\n",
              "      <th>feature6</th>\n",
              "      <th>feature7</th>\n",
              "      <th>feature8</th>\n",
              "      <th>feature9</th>\n",
              "      <th>feature10</th>\n",
              "      <th>feature11</th>\n",
              "      <th>feature12</th>\n",
              "      <th>OutputLabel</th>\n",
              "    </tr>\n",
              "  </thead>\n",
              "  <tbody>\n",
              "    <tr>\n",
              "      <th>0</th>\n",
              "      <td>FACE 1</td>\n",
              "      <td>LOCATING PIN</td>\n",
              "      <td>5</td>\n",
              "      <td>NaN</td>\n",
              "      <td>0</td>\n",
              "      <td>1</td>\n",
              "      <td>0</td>\n",
              "      <td>0</td>\n",
              "      <td>0</td>\n",
              "      <td>1</td>\n",
              "      <td>0.0</td>\n",
              "      <td>0</td>\n",
              "      <td>0</td>\n",
              "    </tr>\n",
              "    <tr>\n",
              "      <th>1</th>\n",
              "      <td>FACE 2</td>\n",
              "      <td>LOCATING PIN</td>\n",
              "      <td>1</td>\n",
              "      <td>NaN</td>\n",
              "      <td>0</td>\n",
              "      <td>1</td>\n",
              "      <td>0</td>\n",
              "      <td>0</td>\n",
              "      <td>0</td>\n",
              "      <td>1</td>\n",
              "      <td>45.0</td>\n",
              "      <td>0</td>\n",
              "      <td>1</td>\n",
              "    </tr>\n",
              "    <tr>\n",
              "      <th>2</th>\n",
              "      <td>FACE 3</td>\n",
              "      <td>LOCATING PIN</td>\n",
              "      <td>1</td>\n",
              "      <td>NaN</td>\n",
              "      <td>0</td>\n",
              "      <td>1</td>\n",
              "      <td>0</td>\n",
              "      <td>0</td>\n",
              "      <td>0</td>\n",
              "      <td>1</td>\n",
              "      <td>45.0</td>\n",
              "      <td>0</td>\n",
              "      <td>1</td>\n",
              "    </tr>\n",
              "    <tr>\n",
              "      <th>3</th>\n",
              "      <td>FACE 4</td>\n",
              "      <td>LOCATING PIN</td>\n",
              "      <td>5</td>\n",
              "      <td>NaN</td>\n",
              "      <td>0</td>\n",
              "      <td>0</td>\n",
              "      <td>0</td>\n",
              "      <td>0</td>\n",
              "      <td>0</td>\n",
              "      <td>0</td>\n",
              "      <td>0.0</td>\n",
              "      <td>0</td>\n",
              "      <td>0</td>\n",
              "    </tr>\n",
              "    <tr>\n",
              "      <th>4</th>\n",
              "      <td>FACE 5</td>\n",
              "      <td>LOCATING PIN</td>\n",
              "      <td>2</td>\n",
              "      <td>DIAMOND2</td>\n",
              "      <td>0</td>\n",
              "      <td>1</td>\n",
              "      <td>0</td>\n",
              "      <td>1</td>\n",
              "      <td>0</td>\n",
              "      <td>1</td>\n",
              "      <td>0.0</td>\n",
              "      <td>0</td>\n",
              "      <td>0</td>\n",
              "    </tr>\n",
              "  </tbody>\n",
              "</table>\n",
              "</div>"
            ],
            "text/plain": [
              "  feature1      feature2  feature3  ... feature11  feature12  OutputLabel\n",
              "0   FACE 1  LOCATING PIN         5  ...       0.0          0            0\n",
              "1   FACE 2  LOCATING PIN         1  ...      45.0          0            1\n",
              "2   FACE 3  LOCATING PIN         1  ...      45.0          0            1\n",
              "3   FACE 4  LOCATING PIN         5  ...       0.0          0            0\n",
              "4   FACE 5  LOCATING PIN         2  ...       0.0          0            0\n",
              "\n",
              "[5 rows x 13 columns]"
            ]
          },
          "metadata": {
            "tags": []
          },
          "execution_count": 214
        }
      ]
    },
    {
      "cell_type": "code",
      "metadata": {
        "colab": {
          "base_uri": "https://localhost:8080/"
        },
        "id": "jyRc-4ufqrD-",
        "outputId": "d0a5deca-2a49-46a9-f713-55826a84d3c1"
      },
      "source": [
        "# Exploring the data\r\n",
        "print('Data shape: ',df.shape)\r\n",
        "print(df.info())"
      ],
      "execution_count": 215,
      "outputs": [
        {
          "output_type": "stream",
          "text": [
            "Data shape:  (644, 13)\n",
            "<class 'pandas.core.frame.DataFrame'>\n",
            "RangeIndex: 644 entries, 0 to 643\n",
            "Data columns (total 13 columns):\n",
            " #   Column       Non-Null Count  Dtype  \n",
            "---  ------       --------------  -----  \n",
            " 0   feature1     644 non-null    object \n",
            " 1   feature2     644 non-null    object \n",
            " 2   feature3     644 non-null    int64  \n",
            " 3   feature4     146 non-null    object \n",
            " 4   feature5     644 non-null    int64  \n",
            " 5   feature6     644 non-null    int64  \n",
            " 6   feature7     644 non-null    int64  \n",
            " 7   feature8     644 non-null    int64  \n",
            " 8   feature9     644 non-null    int64  \n",
            " 9   feature10    644 non-null    int64  \n",
            " 10  feature11    644 non-null    float64\n",
            " 11  feature12    644 non-null    int64  \n",
            " 12  OutputLabel  644 non-null    int64  \n",
            "dtypes: float64(1), int64(9), object(3)\n",
            "memory usage: 65.5+ KB\n",
            "None\n"
          ],
          "name": "stdout"
        }
      ]
    },
    {
      "cell_type": "code",
      "metadata": {
        "colab": {
          "base_uri": "https://localhost:8080/",
          "height": 278
        },
        "id": "F-oCpyVgq35C",
        "outputId": "94578aef-61d9-49ee-df2a-939d9efad07a"
      },
      "source": [
        "# Check Distribution of the label classes\r\n",
        "fig, ax = plt.subplots()\r\n",
        "df['OutputLabel'].value_counts().plot(ax=ax, kind='bar')\r\n",
        "plt.title('Distribution of OutputLabel')\r\n",
        "plt.show()"
      ],
      "execution_count": 216,
      "outputs": [
        {
          "output_type": "display_data",
          "data": {
            "image/png": "[encoded data removed]",
            "text/plain": [
              "<Figure size 432x288 with 1 Axes>"
            ]
          },
          "metadata": {
            "tags": [],
            "needs_background": "light"
          }
        }
      ]
    },
    {
      "cell_type": "markdown",
      "metadata": {
        "id": "qMhTv8ZLhN9X"
      },
      "source": [
        "* The Distribution of the label classes is slightly imbalanced. <br>\r\n",
        "* In such cases ***accuracy*** is not the best metric. <br>\r\n",
        "* Thus, I have used ***precision***, ***recall*** and ***f1-score*** also to evaluate the model."
      ]
    },
    {
      "cell_type": "code",
      "metadata": {
        "colab": {
          "base_uri": "https://localhost:8080/",
          "height": 322
        },
        "id": "5ZqvnFVbrdHS",
        "outputId": "bccc4764-4317-4367-ff0e-2da16b72457f"
      },
      "source": [
        "heat_map = sns.heatmap(df.corr(method='pearson'), annot=True, fmt='.2f', linewidths=2)\r\n",
        "heat_map.set_xticklabels(heat_map.get_xticklabels(), rotation=45)\r\n",
        "plt.title('Pearson correlation coefficient ')\r\n",
        "plt.show()"
      ],
      "execution_count": 217,
      "outputs": [
        {
          "output_type": "display_data",
          "data": {
            "image/png": "[encoded data removed]",
            "text/plain": [
              "<Figure size 432x288 with 2 Axes>"
            ]
          },
          "metadata": {
            "tags": [],
            "needs_background": "light"
          }
        }
      ]
    },
    {
      "cell_type": "markdown",
      "metadata": {
        "id": "Pn1RrOugh6JH"
      },
      "source": [
        "* Some features are highly correlated to the labels ex: ***feature11*** and ***feature5*** <br>\r\n",
        "* Also, it can be observed that there is high correlation between some features ex: ***feature6*** and ***feature10*** are highly correlated."
      ]
    },
    {
      "cell_type": "markdown",
      "metadata": {
        "id": "05KzFShatJiG"
      },
      "source": [
        "# **Data Preprocessing**"
      ]
    },
    {
      "cell_type": "code",
      "metadata": {
        "colab": {
          "base_uri": "https://localhost:8080/"
        },
        "id": "TnqBIbL_rr3w",
        "outputId": "90edc251-07c9-43f7-a501-8e49934be4cc"
      },
      "source": [
        "# To check if there is any null/ Nan values in the data\r\n",
        "df.isna().sum()"
      ],
      "execution_count": 218,
      "outputs": [
        {
          "output_type": "execute_result",
          "data": {
            "text/plain": [
              "feature1         0\n",
              "feature2         0\n",
              "feature3         0\n",
              "feature4       498\n",
              "feature5         0\n",
              "feature6         0\n",
              "feature7         0\n",
              "feature8         0\n",
              "feature9         0\n",
              "feature10        0\n",
              "feature11        0\n",
              "feature12        0\n",
              "OutputLabel      0\n",
              "dtype: int64"
            ]
          },
          "metadata": {
            "tags": []
          },
          "execution_count": 218
        }
      ]
    },
    {
      "cell_type": "markdown",
      "metadata": {
        "id": "A3ruUEL7i7dg"
      },
      "source": [
        "* As ***feature4*** is a categorical variable, I have used the most frequest category to impute the null values in ***feature4*** <br>\r\n"
      ]
    },
    {
      "cell_type": "code",
      "metadata": {
        "colab": {
          "base_uri": "https://localhost:8080/",
          "height": 195
        },
        "id": "oy3-f5oFs7FF",
        "outputId": "48a16b06-e678-47bc-bf6a-70e854477097"
      },
      "source": [
        "df['feature4'].fillna(df['feature4'].value_counts().index[0], inplace = True)\r\n",
        "df.head()"
      ],
      "execution_count": 219,
      "outputs": [
        {
          "output_type": "execute_result",
          "data": {
            "text/html": [
              "<div>\n",
              "<style scoped>\n",
              "    .dataframe tbody tr th:only-of-type {\n",
              "        vertical-align: middle;\n",
              "    }\n",
              "\n",
              "    .dataframe tbody tr th {\n",
              "        vertical-align: top;\n",
              "    }\n",
              "\n",
              "    .dataframe thead th {\n",
              "        text-align: right;\n",
              "    }\n",
              "</style>\n",
              "<table border=\"1\" class=\"dataframe\">\n",
              "  <thead>\n",
              "    <tr style=\"text-align: right;\">\n",
              "      <th></th>\n",
              "      <th>feature1</th>\n",
              "      <th>feature2</th>\n",
              "      <th>feature3</th>\n",
              "      <th>feature4</th>\n",
              "      <th>feature5</th>\n",
              "      <th>feature6</th>\n",
              "      <th>feature7</th>\n",
              "      <th>feature8</th>\n",
              "      <th>feature9</th>\n",
              "      <th>feature10</th>\n",
              "      <th>feature11</th>\n",
              "      <th>feature12</th>\n",
              "      <th>OutputLabel</th>\n",
              "    </tr>\n",
              "  </thead>\n",
              "  <tbody>\n",
              "    <tr>\n",
              "      <th>0</th>\n",
              "      <td>FACE 1</td>\n",
              "      <td>LOCATING PIN</td>\n",
              "      <td>5</td>\n",
              "      <td>3.2 MICRONS [VV]</td>\n",
              "      <td>0</td>\n",
              "      <td>1</td>\n",
              "      <td>0</td>\n",
              "      <td>0</td>\n",
              "      <td>0</td>\n",
              "      <td>1</td>\n",
              "      <td>0.0</td>\n",
              "      <td>0</td>\n",
              "      <td>0</td>\n",
              "    </tr>\n",
              "    <tr>\n",
              "      <th>1</th>\n",
              "      <td>FACE 2</td>\n",
              "      <td>LOCATING PIN</td>\n",
              "      <td>1</td>\n",
              "      <td>3.2 MICRONS [VV]</td>\n",
              "      <td>0</td>\n",
              "      <td>1</td>\n",
              "      <td>0</td>\n",
              "      <td>0</td>\n",
              "      <td>0</td>\n",
              "      <td>1</td>\n",
              "      <td>45.0</td>\n",
              "      <td>0</td>\n",
              "      <td>1</td>\n",
              "    </tr>\n",
              "    <tr>\n",
              "      <th>2</th>\n",
              "      <td>FACE 3</td>\n",
              "      <td>LOCATING PIN</td>\n",
              "      <td>1</td>\n",
              "      <td>3.2 MICRONS [VV]</td>\n",
              "      <td>0</td>\n",
              "      <td>1</td>\n",
              "      <td>0</td>\n",
              "      <td>0</td>\n",
              "      <td>0</td>\n",
              "      <td>1</td>\n",
              "      <td>45.0</td>\n",
              "      <td>0</td>\n",
              "      <td>1</td>\n",
              "    </tr>\n",
              "    <tr>\n",
              "      <th>3</th>\n",
              "      <td>FACE 4</td>\n",
              "      <td>LOCATING PIN</td>\n",
              "      <td>5</td>\n",
              "      <td>3.2 MICRONS [VV]</td>\n",
              "      <td>0</td>\n",
              "      <td>0</td>\n",
              "      <td>0</td>\n",
              "      <td>0</td>\n",
              "      <td>0</td>\n",
              "      <td>0</td>\n",
              "      <td>0.0</td>\n",
              "      <td>0</td>\n",
              "      <td>0</td>\n",
              "    </tr>\n",
              "    <tr>\n",
              "      <th>4</th>\n",
              "      <td>FACE 5</td>\n",
              "      <td>LOCATING PIN</td>\n",
              "      <td>2</td>\n",
              "      <td>DIAMOND2</td>\n",
              "      <td>0</td>\n",
              "      <td>1</td>\n",
              "      <td>0</td>\n",
              "      <td>1</td>\n",
              "      <td>0</td>\n",
              "      <td>1</td>\n",
              "      <td>0.0</td>\n",
              "      <td>0</td>\n",
              "      <td>0</td>\n",
              "    </tr>\n",
              "  </tbody>\n",
              "</table>\n",
              "</div>"
            ],
            "text/plain": [
              "  feature1      feature2  feature3  ... feature11  feature12  OutputLabel\n",
              "0   FACE 1  LOCATING PIN         5  ...       0.0          0            0\n",
              "1   FACE 2  LOCATING PIN         1  ...      45.0          0            1\n",
              "2   FACE 3  LOCATING PIN         1  ...      45.0          0            1\n",
              "3   FACE 4  LOCATING PIN         5  ...       0.0          0            0\n",
              "4   FACE 5  LOCATING PIN         2  ...       0.0          0            0\n",
              "\n",
              "[5 rows x 13 columns]"
            ]
          },
          "metadata": {
            "tags": []
          },
          "execution_count": 219
        }
      ]
    },
    {
      "cell_type": "markdown",
      "metadata": {
        "id": "e-VtAxPrjUyP"
      },
      "source": [
        "* ***Label encoding*** the features with text categorical data into the numerical categorical data. <br>\r\n",
        "* If these features will be usefull for classification, then convert them into ***one hot encoding***.\r\n"
      ]
    },
    {
      "cell_type": "code",
      "metadata": {
        "id": "wLvDpy0auaNO"
      },
      "source": [
        "le = preprocessing.LabelEncoder()\r\n",
        "\r\n",
        "le.fit(df['feature1'])\r\n",
        "df['feature1'] = le.transform(df['feature1'])\r\n",
        "\r\n",
        "le.fit(df['feature2'])\r\n",
        "df['feature2'] = le.transform(df['feature2'])\r\n",
        "\r\n",
        "le.fit(df['feature4'])\r\n",
        "df['feature4'] = le.transform(df['feature4'])"
      ],
      "execution_count": 220,
      "outputs": []
    },
    {
      "cell_type": "code",
      "metadata": {
        "id": "zsYH_sljvLVV"
      },
      "source": [
        "# Scaling\r\n",
        "scaling = preprocessing.MinMaxScaler()\r\n",
        "df['feature11'] = scaling.fit_transform(df[['feature11']])"
      ],
      "execution_count": 237,
      "outputs": []
    },
    {
      "cell_type": "code",
      "metadata": {
        "id": "1sSjYn9zwBn_"
      },
      "source": [
        "# Split features and labels\r\n",
        "X_data = df.iloc[:, 0:-1]\r\n",
        "Y_data = df['OutputLabel']"
      ],
      "execution_count": 222,
      "outputs": []
    },
    {
      "cell_type": "code",
      "metadata": {
        "id": "auvKgztSx6Yi"
      },
      "source": [
        "# Split into traing and test set\r\n",
        "X_train, X_test, y_train, y_test = train_test_split(X_data, Y_data, test_size=0.2, random_state=5)"
      ],
      "execution_count": 223,
      "outputs": []
    },
    {
      "cell_type": "code",
      "metadata": {
        "colab": {
          "base_uri": "https://localhost:8080/"
        },
        "id": "YbfQBLJrZe07",
        "outputId": "d11639c3-6774-4ce5-c33d-6398cba161a6"
      },
      "source": [
        "print(X_train.shape)\r\n",
        "print(X_test.shape)\r\n",
        "print(y_train.shape)\r\n",
        "print(y_test.shape)"
      ],
      "execution_count": 224,
      "outputs": [
        {
          "output_type": "stream",
          "text": [
            "(515, 12)\n",
            "(129, 12)\n",
            "(515,)\n",
            "(129,)\n"
          ],
          "name": "stdout"
        }
      ]
    },
    {
      "cell_type": "markdown",
      "metadata": {
        "id": "emDGojCCW1Hi"
      },
      "source": [
        "# **Feature Selection**"
      ]
    },
    {
      "cell_type": "markdown",
      "metadata": {
        "id": "J6Zy4eolj7XU"
      },
      "source": [
        "* Here, I have checked the **chi2 scores** of the features wrt the label. <br>\r\n",
        "* The features with high scores are more significant for the classification compared to the features with low scores."
      ]
    },
    {
      "cell_type": "code",
      "metadata": {
        "colab": {
          "base_uri": "https://localhost:8080/",
          "height": 402
        },
        "id": "74njjyNQyXAN",
        "outputId": "91df521d-4e9d-4bd6-a5df-899d2fff04c8"
      },
      "source": [
        "select_features = SelectKBest(chi2, k= 'all').fit(X_train, y_train)\r\n",
        "select_features_df = pd.DataFrame({'Feature': list(X_train.columns),\r\n",
        "                                   'Scores': select_features.scores_})\r\n",
        "select_features_df.sort_values(by = 'Scores', ascending = False,)"
      ],
      "execution_count": 225,
      "outputs": [
        {
          "output_type": "execute_result",
          "data": {
            "text/html": [
              "<div>\n",
              "<style scoped>\n",
              "    .dataframe tbody tr th:only-of-type {\n",
              "        vertical-align: middle;\n",
              "    }\n",
              "\n",
              "    .dataframe tbody tr th {\n",
              "        vertical-align: top;\n",
              "    }\n",
              "\n",
              "    .dataframe thead th {\n",
              "        text-align: right;\n",
              "    }\n",
              "</style>\n",
              "<table border=\"1\" class=\"dataframe\">\n",
              "  <thead>\n",
              "    <tr style=\"text-align: right;\">\n",
              "      <th></th>\n",
              "      <th>Feature</th>\n",
              "      <th>Scores</th>\n",
              "    </tr>\n",
              "  </thead>\n",
              "  <tbody>\n",
              "    <tr>\n",
              "      <th>4</th>\n",
              "      <td>feature5</td>\n",
              "      <td>66.109327</td>\n",
              "    </tr>\n",
              "    <tr>\n",
              "      <th>10</th>\n",
              "      <td>feature11</td>\n",
              "      <td>51.794488</td>\n",
              "    </tr>\n",
              "    <tr>\n",
              "      <th>11</th>\n",
              "      <td>feature12</td>\n",
              "      <td>13.178232</td>\n",
              "    </tr>\n",
              "    <tr>\n",
              "      <th>6</th>\n",
              "      <td>feature7</td>\n",
              "      <td>11.862375</td>\n",
              "    </tr>\n",
              "    <tr>\n",
              "      <th>7</th>\n",
              "      <td>feature8</td>\n",
              "      <td>7.098146</td>\n",
              "    </tr>\n",
              "    <tr>\n",
              "      <th>8</th>\n",
              "      <td>feature9</td>\n",
              "      <td>7.081232</td>\n",
              "    </tr>\n",
              "    <tr>\n",
              "      <th>2</th>\n",
              "      <td>feature3</td>\n",
              "      <td>5.869978</td>\n",
              "    </tr>\n",
              "    <tr>\n",
              "      <th>3</th>\n",
              "      <td>feature4</td>\n",
              "      <td>3.203112</td>\n",
              "    </tr>\n",
              "    <tr>\n",
              "      <th>5</th>\n",
              "      <td>feature6</td>\n",
              "      <td>2.298955</td>\n",
              "    </tr>\n",
              "    <tr>\n",
              "      <th>0</th>\n",
              "      <td>feature1</td>\n",
              "      <td>2.067095</td>\n",
              "    </tr>\n",
              "    <tr>\n",
              "      <th>9</th>\n",
              "      <td>feature10</td>\n",
              "      <td>0.651241</td>\n",
              "    </tr>\n",
              "    <tr>\n",
              "      <th>1</th>\n",
              "      <td>feature2</td>\n",
              "      <td>0.506158</td>\n",
              "    </tr>\n",
              "  </tbody>\n",
              "</table>\n",
              "</div>"
            ],
            "text/plain": [
              "      Feature     Scores\n",
              "4    feature5  66.109327\n",
              "10  feature11  51.794488\n",
              "11  feature12  13.178232\n",
              "6    feature7  11.862375\n",
              "7    feature8   7.098146\n",
              "8    feature9   7.081232\n",
              "2    feature3   5.869978\n",
              "3    feature4   3.203112\n",
              "5    feature6   2.298955\n",
              "0    feature1   2.067095\n",
              "9   feature10   0.651241\n",
              "1    feature2   0.506158"
            ]
          },
          "metadata": {
            "tags": []
          },
          "execution_count": 225
        }
      ]
    },
    {
      "cell_type": "markdown",
      "metadata": {
        "id": "4GmPenjtkvGs"
      },
      "source": [
        "* Selecting the k(=7) best features to include  in the model."
      ]
    },
    {
      "cell_type": "code",
      "metadata": {
        "id": "Cb0rgV5CcCUt"
      },
      "source": [
        "select_features = SelectKBest(chi2, k= 7).fit(X_train, y_train)"
      ],
      "execution_count": 226,
      "outputs": []
    },
    {
      "cell_type": "code",
      "metadata": {
        "id": "s3NrgOCecE1O"
      },
      "source": [
        "X_train = select_features.transform(X_train)\r\n",
        "X_test = select_features.transform(X_test)"
      ],
      "execution_count": 227,
      "outputs": []
    },
    {
      "cell_type": "code",
      "metadata": {
        "colab": {
          "base_uri": "https://localhost:8080/"
        },
        "id": "xvbcoVE4cM_-",
        "outputId": "ef63cc87-9c1a-45f2-d718-36cd1a7c7933"
      },
      "source": [
        "print(X_train.shape)\r\n",
        "print(X_test.shape)\r\n",
        "print(y_train.shape)\r\n",
        "print(y_test.shape)"
      ],
      "execution_count": 228,
      "outputs": [
        {
          "output_type": "stream",
          "text": [
            "(515, 7)\n",
            "(129, 7)\n",
            "(515,)\n",
            "(129,)\n"
          ],
          "name": "stdout"
        }
      ]
    },
    {
      "cell_type": "markdown",
      "metadata": {
        "id": "NOLRRZiENxM3"
      },
      "source": [
        "# **Model Building**"
      ]
    },
    {
      "cell_type": "code",
      "metadata": {
        "id": "JlbKtjQ_KuKO"
      },
      "source": [
        "def get_score(model, X_train, y_train):\r\n",
        "  \"\"\"\r\n",
        "  Takes model and (X,Y) data pair as input\r\n",
        "  Return the classification_report & confusion_matrix of model on the data.\r\n",
        "  \"\"\"\r\n",
        "  model.fit(X_train, y_train)\r\n",
        "  y_pred = model.predict(X_train)\r\n",
        "  print(classification_report(y_train, y_pred))\r\n",
        "  print(confusion_matrix(y_train, y_pred))"
      ],
      "execution_count": 229,
      "outputs": []
    },
    {
      "cell_type": "markdown",
      "metadata": {
        "id": "tjGN15PylZnp"
      },
      "source": [
        "* I'm using the vanilla version of ***KNN***, ***SVM*** and ***Random Forest Classifier*** on the training data.  \r\n",
        "* The model performance on training data is displayed.\r\n",
        "\r\n",
        "\r\n"
      ]
    },
    {
      "cell_type": "code",
      "metadata": {
        "colab": {
          "base_uri": "https://localhost:8080/"
        },
        "id": "_zbzPwGLKZO5",
        "outputId": "b967e3d6-8eae-4c13-d7d6-3156ea0683ad"
      },
      "source": [
        "models = [KNeighborsClassifier(), RandomForestClassifier(), SVC()]\r\n",
        "for i in models:\r\n",
        "  get_score(i, X_train, y_train)\r\n",
        "  print('\\n+++++++++++++++++++++++++++++++++++++++++++++++++++++++++++++++++++++\\n')"
      ],
      "execution_count": 230,
      "outputs": [
        {
          "output_type": "stream",
          "text": [
            "              precision    recall  f1-score   support\n",
            "\n",
            "           0       0.98      0.71      0.82       357\n",
            "           1       0.60      0.97      0.74       158\n",
            "\n",
            "    accuracy                           0.79       515\n",
            "   macro avg       0.79      0.84      0.78       515\n",
            "weighted avg       0.87      0.79      0.80       515\n",
            "\n",
            "[[253 104]\n",
            " [  4 154]]\n",
            "\n",
            "+++++++++++++++++++++++++++++++++++++++++++++++++++++++++++++++++++++\n",
            "\n",
            "              precision    recall  f1-score   support\n",
            "\n",
            "           0       0.92      0.90      0.91       357\n",
            "           1       0.79      0.82      0.80       158\n",
            "\n",
            "    accuracy                           0.88       515\n",
            "   macro avg       0.85      0.86      0.86       515\n",
            "weighted avg       0.88      0.88      0.88       515\n",
            "\n",
            "[[322  35]\n",
            " [ 29 129]]\n",
            "\n",
            "+++++++++++++++++++++++++++++++++++++++++++++++++++++++++++++++++++++\n",
            "\n",
            "              precision    recall  f1-score   support\n",
            "\n",
            "           0       0.80      0.94      0.87       357\n",
            "           1       0.77      0.49      0.60       158\n",
            "\n",
            "    accuracy                           0.80       515\n",
            "   macro avg       0.79      0.71      0.73       515\n",
            "weighted avg       0.79      0.80      0.78       515\n",
            "\n",
            "[[334  23]\n",
            " [ 81  77]]\n",
            "\n",
            "+++++++++++++++++++++++++++++++++++++++++++++++++++++++++++++++++++++\n",
            "\n"
          ],
          "name": "stdout"
        }
      ]
    },
    {
      "cell_type": "markdown",
      "metadata": {
        "id": "MnkEKuo5mISC"
      },
      "source": [
        "*  The above scores reflect that KNN and RF are performing better than the SVM classifier.\r\n",
        "\r\n",
        "\r\n"
      ]
    },
    {
      "cell_type": "markdown",
      "metadata": {
        "id": "2WRr0sa6mTds"
      },
      "source": [
        "*  ***Hyperparameter Tuning*** using the GridSearchCV and doing kFold cross validation on training data.\r\n",
        "\r\n",
        "\r\n"
      ]
    },
    {
      "cell_type": "code",
      "metadata": {
        "id": "0-2wAN_mMhsp"
      },
      "source": [
        "pipe = Pipeline([\r\n",
        "    ('classifier', PipelineHelper([\r\n",
        "        ('svm', SVC()),\r\n",
        "        ('rf', RandomForestClassifier()),\r\n",
        "        ('knn', KNeighborsClassifier())\r\n",
        "    ])),\r\n",
        "])\r\n",
        "\r\n",
        "params = {\r\n",
        "\r\n",
        "    'classifier__selected_model': pipe.named_steps['classifier'].generate({\r\n",
        "        'svm__C': [0.1, 1.0],\r\n",
        "        'svm__gamma': [5,10,20,25,50],\r\n",
        "\r\n",
        "        'rf__n_estimators': [10,20,50,100],\r\n",
        "        'rf__max_depth': [5,8,15,25,30, None],\r\n",
        "        'rf__max_leaf_nodes': [2,5,10,15,20],\r\n",
        "\r\n",
        "        'knn__n_neighbors': [3,5,10,20],\r\n",
        "        'knn__weights': ['uniform', 'distance'],\r\n",
        "        'knn__metric': ['euclidean', 'manhattan']})\r\n",
        "}\r\n",
        "grid = GridSearchCV(pipe, params, scoring='accuracy',cv = 3, verbose=1)"
      ],
      "execution_count": 234,
      "outputs": []
    },
    {
      "cell_type": "markdown",
      "metadata": {
        "id": "tz7_GdaMW_XH"
      },
      "source": [
        "# **Model Validation**"
      ]
    },
    {
      "cell_type": "markdown",
      "metadata": {
        "id": "0xOdNllbmv3f"
      },
      "source": [
        "*   Validation of the best model obtained from the GridSearch on training and test sets.\r\n",
        "\r\n"
      ]
    },
    {
      "cell_type": "code",
      "metadata": {
        "colab": {
          "base_uri": "https://localhost:8080/"
        },
        "id": "ogeN9vz2WUIO",
        "outputId": "ebaadc4a-3407-4469-89bb-b0b01fa27de9"
      },
      "source": [
        "grid.fit(X_train, y_train)\r\n",
        "print(grid.best_params_)\r\n",
        "print(grid.best_score_)\r\n",
        "final_model = grid.best_estimator_\r\n",
        "print(get_score(final_model, X_train, y_train))"
      ],
      "execution_count": 235,
      "outputs": [
        {
          "output_type": "stream",
          "text": [
            "Fitting 3 folds for each of 146 candidates, totalling 438 fits\n"
          ],
          "name": "stdout"
        },
        {
          "output_type": "stream",
          "text": [
            "[Parallel(n_jobs=1)]: Using backend SequentialBackend with 1 concurrent workers.\n"
          ],
          "name": "stderr"
        },
        {
          "output_type": "stream",
          "text": [
            "{'classifier__selected_model': ('rf', {'max_depth': 5, 'max_leaf_nodes': 5, 'n_estimators': 20})}\n",
            "0.873770343170588\n",
            "              precision    recall  f1-score   support\n",
            "\n",
            "           0       0.92      0.90      0.91       357\n",
            "           1       0.79      0.82      0.80       158\n",
            "\n",
            "    accuracy                           0.88       515\n",
            "   macro avg       0.85      0.86      0.86       515\n",
            "weighted avg       0.88      0.88      0.88       515\n",
            "\n",
            "[[322  35]\n",
            " [ 29 129]]\n",
            "None\n"
          ],
          "name": "stdout"
        },
        {
          "output_type": "stream",
          "text": [
            "[Parallel(n_jobs=1)]: Done 438 out of 438 | elapsed:   22.6s finished\n"
          ],
          "name": "stderr"
        }
      ]
    },
    {
      "cell_type": "code",
      "metadata": {
        "colab": {
          "base_uri": "https://localhost:8080/"
        },
        "id": "jy46Qz7EPEsm",
        "outputId": "95e0f357-52da-4433-cd12-e4470f8de8af"
      },
      "source": [
        "get_score(final_model, X_test, y_test)"
      ],
      "execution_count": 236,
      "outputs": [
        {
          "output_type": "stream",
          "text": [
            "              precision    recall  f1-score   support\n",
            "\n",
            "           0       0.95      0.87      0.91        87\n",
            "           1       0.78      0.90      0.84        42\n",
            "\n",
            "    accuracy                           0.88       129\n",
            "   macro avg       0.86      0.89      0.87       129\n",
            "weighted avg       0.89      0.88      0.89       129\n",
            "\n",
            "[[76 11]\n",
            " [ 4 38]]\n"
          ],
          "name": "stdout"
        }
      ]
    },
    {
      "cell_type": "code",
      "metadata": {
        "id": "AQqEuX8UpnxV"
      },
      "source": [
        ""
      ],
      "execution_count": null,
      "outputs": []
    },
    {
      "cell_type": "markdown",
      "metadata": {
        "id": "6eNwSZP3XDje"
      },
      "source": [
        "# **Results**"
      ]
    },
    {
      "cell_type": "markdown",
      "metadata": {
        "id": "xqDonl3JnAuL"
      },
      "source": [
        "* Grid Search returns: **('rf', {'max_depth': 5, 'max_leaf_nodes': 5, 'n_estimators': 20})** as the best model.\r\n",
        "* This is  a ***Random forest*** with the mentioned parameters. \r\n",
        "\r\n"
      ]
    },
    {
      "cell_type": "markdown",
      "metadata": {
        "id": "po3Nhe9ynXOs"
      },
      "source": [
        "* The model has good scores in terms of: ***accuracy, precision, recall and f1-score***.\r\n",
        "* The model is performing realtively similar on the test set compared to the training set. This suggests that the model has not overfit.\r\n",
        "* Model gives good(high) **TP** and **TN** values for both training and test sets.\r\n",
        "* The low values of **FP** and **FN** are also an indicator that the model is performing good.\r\n",
        "\r\n"
      ]
    },
    {
      "cell_type": "markdown",
      "metadata": {
        "id": "Za4S3YdRn5d9"
      },
      "source": [
        "*  As the data is relatively small, I have avioded using ***neural networks*** for this task.\r\n",
        "* Traditional ML methods like KNN and RF have worked sufficiently well in this case.\r\n",
        "\r\n"
      ]
    },
    {
      "cell_type": "code",
      "metadata": {
        "id": "TK9vkDapgJVg"
      },
      "source": [
        ""
      ],
      "execution_count": 233,
      "outputs": []
    }
  ]
}